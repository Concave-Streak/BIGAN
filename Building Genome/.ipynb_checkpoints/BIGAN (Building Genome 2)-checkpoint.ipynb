{
 "cells": [
  {
   "cell_type": "markdown",
   "id": "1c78ef7a-d402-47e3-b889-b248ae40a4c5",
   "metadata": {
    "jp-MarkdownHeadingCollapsed": true
   },
   "source": [
    "# Importing Dependencies"
   ]
  },
  {
   "cell_type": "code",
   "execution_count": null,
   "id": "4b25851c-fb08-4964-9239-164c31f8c1f4",
   "metadata": {},
   "outputs": [],
   "source": [
    "!pip install sdv"
   ]
  },
  {
   "cell_type": "code",
   "execution_count": null,
   "id": "8333623c-50b9-4375-8f4b-0ca823db9f00",
   "metadata": {},
   "outputs": [],
   "source": [
    "import numpy as np\n",
    "import pandas as pd\n",
    "import seaborn as sns\n",
    "import matplotlib.pyplot as plt\n",
    "from sklearn.model_selection import train_test_split\n",
    "from sklearn.preprocessing import LabelEncoder\n",
    "from sdv.metadata import SingleTableMetadata\n",
    "from sdv.single_table import GaussianCopulaSynthesizer\n",
    "from sdv.single_table import CTGANSynthesizer"
   ]
  },
  {
   "cell_type": "markdown",
   "id": "60a66b48-7ad6-4ad9-abfa-75b8e366ebfc",
   "metadata": {
    "jp-MarkdownHeadingCollapsed": true
   },
   "source": [
    "# Downloading Building Genome 2 Dataset"
   ]
  },
  {
   "cell_type": "code",
   "execution_count": null,
   "id": "dbc3df1a-9979-4185-8382-cc88e0e3f75a",
   "metadata": {},
   "outputs": [],
   "source": [
    "!mkdir raw\n",
    "!curl -o raw/metadata.csv https://media.githubusercontent.com/media/buds-lab/building-data-genome-project-2/master/data/metadata/metadata.csv\n",
    "!curl -o raw/weather.csv https://media.githubusercontent.com/media/buds-lab/building-data-genome-project-2/master/data/weather/weather.csv\n",
    "!curl -o raw/electricity_cleaned.csv https://media.githubusercontent.com/media/buds-lab/building-data-genome-project-2/master/data/meters/cleaned/electricity_cleaned.csv"
   ]
  },
  {
   "cell_type": "markdown",
   "id": "7ccb2ab8-295e-450c-a135-1b4dae11083d",
   "metadata": {
    "jp-MarkdownHeadingCollapsed": true
   },
   "source": [
    "# Filling in missing data"
   ]
  },
  {
   "cell_type": "markdown",
   "id": "1792994a-99d1-4f6c-8cb6-dc5d824706d4",
   "metadata": {
    "jp-MarkdownHeadingCollapsed": true
   },
   "source": [
    "## Pre processing Raw Data"
   ]
  },
  {
   "cell_type": "code",
   "execution_count": null,
   "id": "e8d17228-7a60-4089-885f-8ef18893952a",
   "metadata": {},
   "outputs": [],
   "source": [
    "fields = [\"building_id\", \"sub_primaryspaceusage\", \"sqft\", \"yearbuilt\", \"numberoffloors\"]\n",
    "dfm = pd.read_csv(\"raw/metadata.csv\", usecols=fields)\n",
    "dfm=dfm.set_index('building_id')\n",
    "\n",
    "dfe = pd.read_csv(\"raw/electricity_cleaned.csv\")\n",
    "dfe_cleaned = pd.DataFrame(dfe.drop(['timestamp'], axis=1).mean()).reset_index()\n",
    "dfe_cleaned.columns = [\"building_id\",\"power_consumption\"]\n",
    "dfe_cleaned=dfe_cleaned.set_index(\"building_id\")\n",
    "\n",
    "data = pd.merge(dfm, dfe_cleaned, left_index=True, right_index=True).reset_index()\n",
    "\n",
    "weather = [\"site_id\", \"airTemperature\", \"dewTemperature\"]\n",
    "dfw = pd.read_csv(\"raw/weather.csv\", usecols=weather)\n",
    "\n",
    "dfw_mean = dfw.groupby(\"site_id\").mean()\n",
    "dfw_mean.reset_index()\n",
    "\n",
    "data['site_id'] = data['building_id'].apply(lambda x: x.split('_')[0])\n",
    "merged_df = pd.merge(data, dfw_mean, on='site_id', how='left')\n",
    "\n",
    "def calculate_relative_humidity(air_temp, dew_temp):\n",
    "    numerator = np.exp((17.625 * dew_temp) / (dew_temp + 243.04))\n",
    "    denominator = np.exp((17.625 * air_temp) / (air_temp + 243.04))\n",
    "    humidity = 100 * (numerator / denominator)\n",
    "    return humidity\n",
    "\n",
    "merged_df['humidity'] = calculate_relative_humidity(merged_df['airTemperature'], merged_df['dewTemperature'])\n",
    "\n",
    "final_df = merged_df.drop([\"building_id\", \"site_id\", \"dewTemperature\"], axis = 1)\n",
    "\n",
    "new_column_order = ['sub_primaryspaceusage', 'sqft', 'yearbuilt', 'numberoffloors', 'airTemperature', \"humidity\", 'power_consumption']\n",
    "\n",
    "final_df = final_df[new_column_order]\n",
    "\n",
    "final_df.columns = ['building_type', 'sqft', 'yearbuilt', 'numberoffloors', 'airTemperature', \"humidity\", 'power_consumption']\n",
    "\n",
    "final_df = final_df[final_df['power_consumption'].notna()]\n",
    "\n",
    "final_df"
   ]
  },
  {
   "cell_type": "markdown",
   "id": "cebe2b6e-3d34-443d-87f1-1dcb3bdf3b6b",
   "metadata": {
    "jp-MarkdownHeadingCollapsed": true
   },
   "source": [
    "## Rows with no missing values"
   ]
  },
  {
   "cell_type": "code",
   "execution_count": null,
   "id": "02d401ea-c291-441f-9504-87351aaab92f",
   "metadata": {},
   "outputs": [],
   "source": [
    "no_na = final_df.dropna()\n",
    "no_na"
   ]
  },
  {
   "cell_type": "markdown",
   "id": "8286ff57-bc28-478b-9162-10d2b673eaec",
   "metadata": {
    "jp-MarkdownHeadingCollapsed": true
   },
   "source": [
    "## Fit Gaussian Copula to rows with no missing values"
   ]
  },
  {
   "cell_type": "code",
   "execution_count": null,
   "id": "fcec0f8a-8d5b-4999-a076-7ef3246350bd",
   "metadata": {},
   "outputs": [],
   "source": [
    "metadata = SingleTableMetadata()\n",
    "metadata.detect_from_dataframe(no_na) \n",
    "\n",
    "synthesizer = GaussianCopulaSynthesizer(\n",
    "    metadata,\n",
    "    enforce_rounding=True,\n",
    "    enforce_min_max_values=False,\n",
    "    default_distribution='gaussian_kde',\n",
    ")\n",
    "\n",
    "sqft_r = {\n",
    "    'constraint_class': 'ScalarRange',\n",
    "    'constraint_parameters': {\n",
    "        'column_name': 'sqft',\n",
    "        'low_value': final_df['sqft'].min(),\n",
    "        'high_value': final_df['sqft'].max(),\n",
    "        'strict_boundaries': False\n",
    "    }\n",
    "}\n",
    "\n",
    "numberoffloors_r = {\n",
    "    'constraint_class': 'ScalarRange',\n",
    "    'constraint_parameters': {\n",
    "        'column_name': 'numberoffloors',\n",
    "        'low_value': 1,\n",
    "        'high_value': 100,\n",
    "        'strict_boundaries': False\n",
    "    }\n",
    "}\n",
    "\n",
    "yearbuilt_r = {\n",
    "    'constraint_class': 'ScalarRange',\n",
    "    'constraint_parameters': {\n",
    "        'column_name': 'yearbuilt',\n",
    "        'low_value': final_df['yearbuilt'].min(),\n",
    "        'high_value': final_df['yearbuilt'].max(),\n",
    "        'strict_boundaries': False\n",
    "    }\n",
    "}\n",
    "    \n",
    "power_r = {\n",
    "    'constraint_class': 'Positive',\n",
    "    'constraint_parameters': {\n",
    "        'column_name': 'power_consumption',\n",
    "        'strict_boundaries': True\n",
    "    }\n",
    "}\n",
    "\n",
    "synthesizer.add_constraints(\n",
    "constraints=[sqft_r, numberoffloors_r, yearbuilt_r, power_r]\n",
    ")\n",
    "synthesizer.fit(no_na)"
   ]
  },
  {
   "cell_type": "markdown",
   "id": "317243ce-3a4a-4823-9051-67dce8a8787d",
   "metadata": {
    "jp-MarkdownHeadingCollapsed": true
   },
   "source": [
    "### Evaluating how well this fits the actual distribution"
   ]
  },
  {
   "cell_type": "code",
   "execution_count": null,
   "id": "961d6573-dbc9-4a85-904e-7be62f01e741",
   "metadata": {},
   "outputs": [],
   "source": [
    "SAMPLES = 300\n",
    "\n",
    "samples = synthesizer.sample(\n",
    "    num_rows=SAMPLES,\n",
    "    batch_size=10\n",
    ")\n",
    "samples"
   ]
  },
  {
   "cell_type": "code",
   "execution_count": null,
   "id": "fdd59bdd-3044-4d43-9df6-05cf1e782cf4",
   "metadata": {},
   "outputs": [],
   "source": [
    "eval_real = no_na.copy()\n",
    "eval_generated = samples.copy()\n",
    "\n",
    "le = LabelEncoder()\n",
    "eval_real['building_type'] = le.fit_transform(eval_real['building_type'])\n",
    "eval_generated['building_type'] = le.fit_transform(eval_generated['building_type'])\n",
    "\n",
    "(eval_real['sqft'] < 0).sum()"
   ]
  },
  {
   "cell_type": "code",
   "execution_count": null,
   "id": "a4ed23bd-c70e-44cf-8461-629c991687ad",
   "metadata": {},
   "outputs": [],
   "source": [
    "fig = plt.figure(figsize=(5,10))\n",
    "fig.subplots_adjust(hspace=1, wspace=0.4)\n",
    "\n",
    "for n,cat in enumerate(eval_real.columns):\n",
    "    ax = fig.add_subplot(8, 1, n+1)\n",
    "    sns.kdeplot(eval_real[cat], label = 'real', ax=ax)\n",
    "    sns.kdeplot(eval_generated[cat], label = 'fake', ax = ax)\n",
    "    plt.legend()"
   ]
  },
  {
   "cell_type": "code",
   "execution_count": null,
   "id": "605041d6-41a8-41b4-a2cd-e5080953c935",
   "metadata": {},
   "outputs": [],
   "source": [
    "fig_corr = plt.figure(figsize=(20,10))\n",
    "ax = fig_corr.add_subplot(1, 3, 1)\n",
    "sns.heatmap(eval_real.corr(), annot=True, ax=ax)\n",
    "ax = fig_corr.add_subplot(1, 3, 2)\n",
    "sns.heatmap(eval_generated.corr(), annot=True, ax=ax)\n",
    "ax = fig_corr.add_subplot(1, 3, 3)\n",
    "sns.heatmap(abs(eval_real.corr()-eval_generated.corr()), annot=True, ax=ax)"
   ]
  },
  {
   "cell_type": "markdown",
   "id": "583a8995-606c-4e8f-bd62-3a251deb06b7",
   "metadata": {
    "jp-MarkdownHeadingCollapsed": true
   },
   "source": [
    "## Using samples from this distribution to fill in the missing values"
   ]
  },
  {
   "cell_type": "code",
   "execution_count": null,
   "id": "8ad432ad-7f4a-4eca-9322-839be7569908",
   "metadata": {},
   "outputs": [],
   "source": [
    "final_df.isnull().sum(axis = 0)"
   ]
  },
  {
   "cell_type": "code",
   "execution_count": null,
   "id": "91ddb2f8-8110-45e7-b41f-44c55392f449",
   "metadata": {},
   "outputs": [],
   "source": [
    "na_lst = ['building_type','yearbuilt','numberoffloors']\n",
    "\n",
    "for it in na_lst:\n",
    "    final_df.loc[final_df[it].isna(), it] = synthesizer.sample_remaining_columns(\n",
    "    known_columns=final_df.loc[final_df[it].isna()].drop(['building_type','yearbuilt','numberoffloors'], axis=1),\n",
    "    max_tries_per_batch=100\n",
    "    )[it]\n",
    "\n",
    "final_df.isnull().sum(axis = 0)"
   ]
  },
  {
   "cell_type": "markdown",
   "id": "ee16610b-c4d1-4e9f-962e-45ff5e470f9e",
   "metadata": {
    "jp-MarkdownHeadingCollapsed": true
   },
   "source": [
    "## Saving Result"
   ]
  },
  {
   "cell_type": "code",
   "execution_count": null,
   "id": "801ee4ed-9ffa-4df4-8469-b329a463e582",
   "metadata": {},
   "outputs": [],
   "source": [
    "final_df.index.name = 'building_id'\n",
    "final_df.to_csv(\"real_data.csv\")"
   ]
  },
  {
   "cell_type": "markdown",
   "id": "46981405-b8de-4178-bfb4-94304386fab9",
   "metadata": {
    "jp-MarkdownHeadingCollapsed": true
   },
   "source": [
    "# Generating New Synthetic Data"
   ]
  },
  {
   "cell_type": "markdown",
   "id": "b1239717-7b89-46aa-9768-d3ecb40d07a8",
   "metadata": {
    "jp-MarkdownHeadingCollapsed": true
   },
   "source": [
    "## Set Parameters"
   ]
  },
  {
   "cell_type": "code",
   "execution_count": null,
   "id": "a5f96c0f-cfe3-424e-ab30-47bd98077f0b",
   "metadata": {},
   "outputs": [],
   "source": [
    "CULL_FRACTION = 1 #amount of dataset to use\n",
    "TRAIN_FRACTION = 0.8 #train fraction\n",
    "EPOCHS = 2500 #no of iterations\n",
    "SAMPLES = 10000 #no of samples to generate"
   ]
  },
  {
   "cell_type": "markdown",
   "id": "8814989b-f12a-4df9-9898-72d943f0fd15",
   "metadata": {
    "jp-MarkdownHeadingCollapsed": true
   },
   "source": [
    "## Load Dataset"
   ]
  },
  {
   "cell_type": "code",
   "execution_count": null,
   "id": "2bd2a859-cb20-493e-8190-d5a31f77360e",
   "metadata": {},
   "outputs": [],
   "source": [
    "df = pd.read_csv(\"real_data.csv\").set_index(\"building_id\")\n",
    "cull_df = df.sample(frac=CULL_FRACTION).reset_index(drop=True)\n",
    "train_data, test_data = train_test_split(cull_df, train_size=TRAIN_FRACTION)\n",
    "print(train_data.shape, test_data.shape)"
   ]
  },
  {
   "cell_type": "markdown",
   "id": "fe9f15d8-b478-45e1-ae23-ef3e5cc801a5",
   "metadata": {
    "jp-MarkdownHeadingCollapsed": true
   },
   "source": [
    "## Train CTGAN"
   ]
  },
  {
   "cell_type": "code",
   "execution_count": null,
   "id": "01a6f23f-7969-4da5-b7f6-cfe43c29df56",
   "metadata": {},
   "outputs": [],
   "source": [
    "metadata = SingleTableMetadata()\n",
    "metadata.detect_from_dataframe(train_data) \n",
    "\n",
    "synthesizer = CTGANSynthesizer(\n",
    "    metadata,\n",
    "    enforce_rounding=True,\n",
    "    enforce_min_max_values=True,\n",
    "    epochs=EPOCHS,\n",
    "    verbose=True\n",
    ")\n",
    "synthesizer.fit(train_data)"
   ]
  },
  {
   "cell_type": "code",
   "execution_count": null,
   "id": "9542bc53-e9f8-4f0f-a01d-48521b3a5d49",
   "metadata": {},
   "outputs": [],
   "source": [
    "samples = synthesizer.sample(\n",
    "    num_rows=SAMPLES,\n",
    "    batch_size=1000\n",
    ")\n",
    "samples"
   ]
  },
  {
   "cell_type": "markdown",
   "id": "3975d2bb-d303-49e3-be3d-8f955d4b7fc5",
   "metadata": {},
   "source": [
    "### Evaluating GAN"
   ]
  },
  {
   "cell_type": "code",
   "execution_count": null,
   "id": "a16bc76a-f6b8-4e93-8fad-52089622ecf3",
   "metadata": {},
   "outputs": [],
   "source": [
    "eval_real = test_data.copy()\n",
    "eval_generated = samples.copy()\n",
    "\n",
    "le = LabelEncoder()\n",
    "eval_real['building_type'] = le.fit_transform(test_data['building_type'])\n",
    "eval_generated['building_type'] = le.fit_transform(samples['building_type'])"
   ]
  },
  {
   "cell_type": "code",
   "execution_count": null,
   "id": "107f61c0-5bef-4ef8-9f41-fbec1a3d7c43",
   "metadata": {},
   "outputs": [],
   "source": [
    "fig = plt.figure(figsize=(5,10))\n",
    "fig.subplots_adjust(hspace=1, wspace=0.4)\n",
    "\n",
    "for n,cat in enumerate(eval_real.columns):\n",
    "    ax = fig.add_subplot(8, 1, n+1)\n",
    "    sns.kdeplot(eval_real[cat], label = 'real', ax=ax)\n",
    "    sns.kdeplot(eval_generated[cat], label = 'fake', ax = ax)\n",
    "    plt.legend()"
   ]
  },
  {
   "cell_type": "code",
   "execution_count": null,
   "id": "f76121d9-6497-4ff2-a93f-7fb6e1715ea7",
   "metadata": {},
   "outputs": [],
   "source": [
    "fig_corr = plt.figure(figsize=(20,10))\n",
    "ax = fig_corr.add_subplot(1, 3, 1)\n",
    "sns.heatmap(eval_real.corr(), annot=True, ax=ax)\n",
    "ax = fig_corr.add_subplot(1, 3, 2)\n",
    "sns.heatmap(eval_generated.corr(), annot=True, ax=ax)\n",
    "ax = fig_corr.add_subplot(1, 3, 3)\n",
    "sns.heatmap(abs(eval_real.corr()-eval_generated.corr()), annot=True, ax=ax)"
   ]
  },
  {
   "cell_type": "markdown",
   "id": "d271bd04-c30c-4951-a681-4948e164ba11",
   "metadata": {
    "jp-MarkdownHeadingCollapsed": true
   },
   "source": [
    "## Saving Extended Dataset"
   ]
  },
  {
   "cell_type": "code",
   "execution_count": null,
   "id": "75a76dc3-4e38-4765-b3aa-9ca2b4fe77ac",
   "metadata": {},
   "outputs": [],
   "source": [
    "samples.to_csv(\"generated_data.csv\")"
   ]
  },
  {
   "cell_type": "code",
   "execution_count": null,
   "id": "c07fc599-6ab2-474d-93ad-5822c66147f0",
   "metadata": {},
   "outputs": [],
   "source": []
  }
 ],
 "metadata": {
  "kernelspec": {
   "display_name": "Python 3 (ipykernel)",
   "language": "python",
   "name": "python3"
  },
  "language_info": {
   "codemirror_mode": {
    "name": "ipython",
    "version": 3
   },
   "file_extension": ".py",
   "mimetype": "text/x-python",
   "name": "python",
   "nbconvert_exporter": "python",
   "pygments_lexer": "ipython3",
   "version": "3.12.3"
  }
 },
 "nbformat": 4,
 "nbformat_minor": 5
}
