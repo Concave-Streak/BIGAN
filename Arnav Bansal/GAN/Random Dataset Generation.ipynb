{
 "cells": [
  {
   "cell_type": "code",
   "execution_count": 1,
   "id": "2f3883a6",
   "metadata": {},
   "outputs": [],
   "source": [
    "import numpy as np\n",
    "import pandas as pd"
   ]
  },
  {
   "cell_type": "code",
   "execution_count": 2,
   "id": "42ae526c",
   "metadata": {},
   "outputs": [],
   "source": [
    "# df = pd.DataFrame(np.random.randint(0,100,size=(100, 4)), columns=list('ABCD'))\n",
    "# df"
   ]
  },
  {
   "cell_type": "code",
   "execution_count": 3,
   "id": "2a9fb178",
   "metadata": {},
   "outputs": [
    {
     "data": {
      "text/plain": [
       "10000"
      ]
     },
     "execution_count": 3,
     "metadata": {},
     "output_type": "execute_result"
    }
   ],
   "source": [
    "#building area \n",
    "randarea=np.arange(50,1010,10)\n",
    "area = np.random.choice(randarea, size=10000)\n",
    "area\n",
    "np.size(area)"
   ]
  },
  {
   "cell_type": "code",
   "execution_count": 4,
   "id": "6de50a73",
   "metadata": {},
   "outputs": [
    {
     "data": {
      "text/plain": [
       "10000"
      ]
     },
     "execution_count": 4,
     "metadata": {},
     "output_type": "execute_result"
    }
   ],
   "source": [
    "#building height\n",
    "randheight=np.arange(3,15+3,3)\n",
    "height = np.random.choice(randheight, size=10000)\n",
    "height\n",
    "np.size(height)"
   ]
  },
  {
   "cell_type": "code",
   "execution_count": 5,
   "id": "2e981a3a",
   "metadata": {},
   "outputs": [
    {
     "data": {
      "text/plain": [
       "10000"
      ]
     },
     "execution_count": 5,
     "metadata": {},
     "output_type": "execute_result"
    }
   ],
   "source": [
    "#building type Single House-0, Town House-1, Duplex-2, Apartment-3\n",
    "# randarea=np.arange(50,1010,10)\n",
    "btype = np.random.randint(0,4,size=10000)\n",
    "btype\n",
    "np.size(btype)"
   ]
  },
  {
   "cell_type": "code",
   "execution_count": 6,
   "id": "faf76928",
   "metadata": {},
   "outputs": [
    {
     "data": {
      "text/plain": [
       "10000"
      ]
     },
     "execution_count": 6,
     "metadata": {},
     "output_type": "execute_result"
    }
   ],
   "source": [
    "#air temperature\n",
    "df = pd.read_excel('Datafirst.xlsx') \n",
    "airtemp=df['Temperature'].to_numpy()\n",
    "airtemp\n",
    "np.size(airtemp)"
   ]
  },
  {
   "cell_type": "code",
   "execution_count": 7,
   "id": "c1314981",
   "metadata": {},
   "outputs": [
    {
     "data": {
      "text/plain": [
       "10000"
      ]
     },
     "execution_count": 7,
     "metadata": {},
     "output_type": "execute_result"
    }
   ],
   "source": [
    "#humidity\n",
    "df = pd.read_excel('Datafirst.xlsx') \n",
    "humidity=df['Humidity'].to_numpy()\n",
    "humidity\n",
    "np.size(humidity)"
   ]
  },
  {
   "cell_type": "code",
   "execution_count": 8,
   "id": "e3350746",
   "metadata": {},
   "outputs": [
    {
     "data": {
      "text/plain": [
       "10000"
      ]
     },
     "execution_count": 8,
     "metadata": {},
     "output_type": "execute_result"
    }
   ],
   "source": [
    "#solar radiation\n",
    "df = pd.read_excel('Datafirst.xlsx')\n",
    "solardata= ((df.dropna(subset=['Solar']))['Solar']).to_numpy()\n",
    "\n",
    "radiation = np.random.choice(solardata, size=10000)\n",
    "radiation\n",
    "np.size(radiation)"
   ]
  },
  {
   "cell_type": "code",
   "execution_count": 11,
   "id": "9619f56c",
   "metadata": {},
   "outputs": [
    {
     "data": {
      "text/plain": [
       "array([300, 270, 180, ..., 160, 300, 220])"
      ]
     },
     "execution_count": 11,
     "metadata": {},
     "output_type": "execute_result"
    }
   ],
   "source": [
    "#energy consumption\n",
    "randcons=np.arange(50,300+10,10)\n",
    "consumption= np.random.choice(randcons, size=10000)\n",
    "consumption\n",
    "# np.size(consumption)"
   ]
  },
  {
   "cell_type": "code",
   "execution_count": 12,
   "id": "9abba61a",
   "metadata": {},
   "outputs": [
    {
     "data": {
      "text/html": [
       "<div>\n",
       "<style scoped>\n",
       "    .dataframe tbody tr th:only-of-type {\n",
       "        vertical-align: middle;\n",
       "    }\n",
       "\n",
       "    .dataframe tbody tr th {\n",
       "        vertical-align: top;\n",
       "    }\n",
       "\n",
       "    .dataframe thead th {\n",
       "        text-align: right;\n",
       "    }\n",
       "</style>\n",
       "<table border=\"1\" class=\"dataframe\">\n",
       "  <thead>\n",
       "    <tr style=\"text-align: right;\">\n",
       "      <th></th>\n",
       "      <th>Area</th>\n",
       "      <th>Height</th>\n",
       "      <th>Building Type</th>\n",
       "      <th>Air Temperature</th>\n",
       "      <th>Humidity</th>\n",
       "      <th>Solar Radiation</th>\n",
       "      <th>Energy Consumption</th>\n",
       "    </tr>\n",
       "  </thead>\n",
       "  <tbody>\n",
       "    <tr>\n",
       "      <th>0</th>\n",
       "      <td>200</td>\n",
       "      <td>12</td>\n",
       "      <td>2</td>\n",
       "      <td>9.344149</td>\n",
       "      <td>96.539062</td>\n",
       "      <td>136000.000000</td>\n",
       "      <td>300</td>\n",
       "    </tr>\n",
       "    <tr>\n",
       "      <th>1</th>\n",
       "      <td>480</td>\n",
       "      <td>12</td>\n",
       "      <td>1</td>\n",
       "      <td>9.773153</td>\n",
       "      <td>95.074219</td>\n",
       "      <td>124000.000000</td>\n",
       "      <td>270</td>\n",
       "    </tr>\n",
       "    <tr>\n",
       "      <th>2</th>\n",
       "      <td>440</td>\n",
       "      <td>6</td>\n",
       "      <td>2</td>\n",
       "      <td>9.656518</td>\n",
       "      <td>94.585938</td>\n",
       "      <td>121333.333333</td>\n",
       "      <td>180</td>\n",
       "    </tr>\n",
       "    <tr>\n",
       "      <th>3</th>\n",
       "      <td>840</td>\n",
       "      <td>6</td>\n",
       "      <td>2</td>\n",
       "      <td>27.015088</td>\n",
       "      <td>65.777344</td>\n",
       "      <td>132666.666666</td>\n",
       "      <td>270</td>\n",
       "    </tr>\n",
       "    <tr>\n",
       "      <th>4</th>\n",
       "      <td>360</td>\n",
       "      <td>9</td>\n",
       "      <td>2</td>\n",
       "      <td>28.290034</td>\n",
       "      <td>99.957031</td>\n",
       "      <td>134666.666666</td>\n",
       "      <td>300</td>\n",
       "    </tr>\n",
       "    <tr>\n",
       "      <th>...</th>\n",
       "      <td>...</td>\n",
       "      <td>...</td>\n",
       "      <td>...</td>\n",
       "      <td>...</td>\n",
       "      <td>...</td>\n",
       "      <td>...</td>\n",
       "      <td>...</td>\n",
       "    </tr>\n",
       "    <tr>\n",
       "      <th>9995</th>\n",
       "      <td>140</td>\n",
       "      <td>12</td>\n",
       "      <td>2</td>\n",
       "      <td>15.364951</td>\n",
       "      <td>95.318359</td>\n",
       "      <td>124000.000000</td>\n",
       "      <td>180</td>\n",
       "    </tr>\n",
       "    <tr>\n",
       "      <th>9996</th>\n",
       "      <td>150</td>\n",
       "      <td>6</td>\n",
       "      <td>1</td>\n",
       "      <td>15.151790</td>\n",
       "      <td>98.003906</td>\n",
       "      <td>123333.333333</td>\n",
       "      <td>70</td>\n",
       "    </tr>\n",
       "    <tr>\n",
       "      <th>9997</th>\n",
       "      <td>740</td>\n",
       "      <td>9</td>\n",
       "      <td>2</td>\n",
       "      <td>15.267084</td>\n",
       "      <td>98.248047</td>\n",
       "      <td>126000.000000</td>\n",
       "      <td>160</td>\n",
       "    </tr>\n",
       "    <tr>\n",
       "      <th>9998</th>\n",
       "      <td>640</td>\n",
       "      <td>12</td>\n",
       "      <td>0</td>\n",
       "      <td>15.419917</td>\n",
       "      <td>94.585938</td>\n",
       "      <td>133333.333333</td>\n",
       "      <td>300</td>\n",
       "    </tr>\n",
       "    <tr>\n",
       "      <th>9999</th>\n",
       "      <td>870</td>\n",
       "      <td>9</td>\n",
       "      <td>2</td>\n",
       "      <td>15.115592</td>\n",
       "      <td>96.783203</td>\n",
       "      <td>122000.000000</td>\n",
       "      <td>220</td>\n",
       "    </tr>\n",
       "  </tbody>\n",
       "</table>\n",
       "<p>10000 rows × 7 columns</p>\n",
       "</div>"
      ],
      "text/plain": [
       "      Area  Height  Building Type  Air Temperature   Humidity  \\\n",
       "0      200      12              2         9.344149  96.539062   \n",
       "1      480      12              1         9.773153  95.074219   \n",
       "2      440       6              2         9.656518  94.585938   \n",
       "3      840       6              2        27.015088  65.777344   \n",
       "4      360       9              2        28.290034  99.957031   \n",
       "...    ...     ...            ...              ...        ...   \n",
       "9995   140      12              2        15.364951  95.318359   \n",
       "9996   150       6              1        15.151790  98.003906   \n",
       "9997   740       9              2        15.267084  98.248047   \n",
       "9998   640      12              0        15.419917  94.585938   \n",
       "9999   870       9              2        15.115592  96.783203   \n",
       "\n",
       "      Solar Radiation  Energy Consumption  \n",
       "0       136000.000000                 300  \n",
       "1       124000.000000                 270  \n",
       "2       121333.333333                 180  \n",
       "3       132666.666666                 270  \n",
       "4       134666.666666                 300  \n",
       "...               ...                 ...  \n",
       "9995    124000.000000                 180  \n",
       "9996    123333.333333                  70  \n",
       "9997    126000.000000                 160  \n",
       "9998    133333.333333                 300  \n",
       "9999    122000.000000                 220  \n",
       "\n",
       "[10000 rows x 7 columns]"
      ]
     },
     "execution_count": 12,
     "metadata": {},
     "output_type": "execute_result"
    }
   ],
   "source": [
    "Final =  {'Area': area, 'Height':height, 'Building Type':btype, 'Air Temperature':airtemp, 'Humidity':humidity, 'Solar Radiation': radiation, 'Energy Consumption':consumption}\n",
    "FinalDF = pd.DataFrame(Final)\n",
    "FinalDF"
   ]
  },
  {
   "cell_type": "code",
   "execution_count": null,
   "id": "850d0215",
   "metadata": {},
   "outputs": [],
   "source": []
  }
 ],
 "metadata": {
  "kernelspec": {
   "display_name": "Python 3 (ipykernel)",
   "language": "python",
   "name": "python3"
  },
  "language_info": {
   "codemirror_mode": {
    "name": "ipython",
    "version": 3
   },
   "file_extension": ".py",
   "mimetype": "text/x-python",
   "name": "python",
   "nbconvert_exporter": "python",
   "pygments_lexer": "ipython3",
   "version": "3.10.9"
  }
 },
 "nbformat": 4,
 "nbformat_minor": 5
}
