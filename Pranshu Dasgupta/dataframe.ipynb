{
 "cells": [
  {
   "cell_type": "code",
   "execution_count": 5,
   "id": "81433eca-39b6-46b4-b5a1-0e63cb495187",
   "metadata": {},
   "outputs": [],
   "source": [
    "import numpy as np\n",
    "import pandas as pd"
   ]
  },
  {
   "cell_type": "code",
   "execution_count": 6,
   "id": "73a9eb5d-63ee-4428-850b-883edb34bcc9",
   "metadata": {
    "tags": []
   },
   "outputs": [],
   "source": [
    "building_area = np.arange(50, 1001, 10)\n",
    "building_height = np.arange(3, 16, 3)\n",
    "building_types = ['Single House', 'Townhouse', 'Duplex', 'Apartment']"
   ]
  },
  {
   "cell_type": "code",
   "execution_count": 7,
   "id": "80ee1401-bbfa-4ea7-9baa-e9c453697890",
   "metadata": {
    "tags": []
   },
   "outputs": [],
   "source": [
    "# Temperature\n",
    "air_temperature = np.random.uniform(10, 30, 10000)\n",
    "\n",
    "'''min_temp_df = pd.read_csv('mintemp_2017_24_annual.csv')\n",
    "max_temp_df = pd.read_csv('maxtemp_2017_24_annual.csv')\n",
    "average_temp_df = pd.DataFrame({\n",
    "    'Year': min_temp_df['Year'],\n",
    "    'Average Temperature': (min_temp_df['Annual'] + max_temp_df['Annual']) / 2\n",
    "})\n",
    "average_temp_df = average_temp_df.dropna(subset=['Average Temperature']).reset_index(drop=True)\n",
    "print(average_temp_df)\n",
    "temperature_values = average_temp_df['Average Temperature'].sample(n=10000, replace=True).reset_index(drop=True)\n",
    "air_temperature = temperature_values'''\n",
    "\n",
    "min_temp_df = pd.read_csv('sydney_mintemp_2017_2024.csv')\n",
    "max_temp_df = pd.read_csv('sydney_maxtemp_2017_2024.csv')\n",
    "temperature_values = min_temp_df['Mean minimum temperature (°C)'].tolist() + max_temp_df['Mean maximum temperature (°C)'].tolist()\n",
    "air_temperature = np.random.choice(temperature_values, size = 10000)"
   ]
  },
  {
   "cell_type": "code",
   "execution_count": 8,
   "id": "216107be-9697-4e44-8c2b-d1a7854ae1b9",
   "metadata": {},
   "outputs": [],
   "source": [
    "# Humidity\n",
    "mean_humidity = 61.3\n",
    "std_dev_humidity = 10\n",
    "humidity = np.round(np.clip(np.random.normal(mean_humidity, std_dev_humidity, 10000), 0, 100), 1)"
   ]
  },
  {
   "cell_type": "code",
   "execution_count": 9,
   "id": "89da1e8e-1346-4be3-a9c9-9d35a277617c",
   "metadata": {
    "tags": []
   },
   "outputs": [
    {
     "name": "stdout",
     "output_type": "stream",
     "text": [
      "10000 [561. 151.   3. ... 209.  50. 621.]\n"
     ]
    }
   ],
   "source": [
    "# Solar Radiation\n",
    "solar_radiation = np.random.uniform(10, 500, 10000) \n",
    "\n",
    "solar_df = pd.read_csv('solar-radiation-observations.csv')\n",
    "non_zero_radiation = solar_df[solar_df['solar_radiation']!=0.0]['solar_radiation']\n",
    "solar_radiation = np.random.choice(non_zero_radiation, size=10000)\n",
    "print(len(solar_radiation), solar_radiation)"
   ]
  },
  {
   "cell_type": "code",
   "execution_count": 10,
   "id": "839f312e-45e1-4089-a957-f7b50841794b",
   "metadata": {
    "tags": []
   },
   "outputs": [],
   "source": [
    "energy_consumption = np.random.choice(np.arange(50, 301, 10), 10000)"
   ]
  },
  {
   "cell_type": "code",
   "execution_count": 31,
   "id": "9c2851ee-c6c0-42fe-8594-08c5d82a0c93",
   "metadata": {
    "collapsed": true,
    "jupyter": {
     "outputs_hidden": true
    },
    "tags": []
   },
   "outputs": [
    {
     "name": "stdout",
     "output_type": "stream",
     "text": [
      "      Building Area  Building Height Building Type  Air Temperature  Humidity  \\\n",
      "0               940               15        Duplex             17.9      69.2   \n",
      "1               150                3     Townhouse              9.9      49.1   \n",
      "2               670                6     Townhouse             18.3      63.4   \n",
      "3               900                3        Duplex             14.0      61.0   \n",
      "4               380                3        Duplex             29.6      61.3   \n",
      "...             ...              ...           ...              ...       ...   \n",
      "9995            680               12  Single House              9.0      70.0   \n",
      "9996            810               12     Townhouse             27.4      44.5   \n",
      "9997            240                9     Townhouse             20.0      60.1   \n",
      "9998            860                9     Apartment             19.5      52.0   \n",
      "9999            970                3  Single House              9.1      61.4   \n",
      "\n",
      "      Solar Radiation  Normalized Energy Consumption  \n",
      "0               561.0                            160  \n",
      "1               151.0                            160  \n",
      "2                 3.0                             80  \n",
      "3               293.0                             80  \n",
      "4               279.0                            240  \n",
      "...               ...                            ...  \n",
      "9995             59.0                            130  \n",
      "9996             17.0                            220  \n",
      "9997            209.0                            240  \n",
      "9998             50.0                            100  \n",
      "9999            621.0                            110  \n",
      "\n",
      "[10000 rows x 7 columns]\n"
     ]
    },
    {
     "data": {
      "text/plain": [
       "\"\\npd.set_option('display.max_columns', None)  # Display all columns\\npd.set_option('display.width', None)  # Set the width to fit all columns in one line\\n\\n# Print the DataFrame\\nprint(df.to_string(index=False))\""
      ]
     },
     "execution_count": 31,
     "metadata": {},
     "output_type": "execute_result"
    }
   ],
   "source": [
    "data = {\n",
    "    'Building Area': np.random.choice(building_area, 10000),\n",
    "    'Building Height': np.random.choice(building_height, 10000),\n",
    "    'Building Type': np.random.choice(building_types, 10000),\n",
    "    'Air Temperature': air_temperature,\n",
    "    'Humidity': humidity,\n",
    "    'Solar Radiation': solar_radiation,\n",
    "    'Normalized Energy Consumption': energy_consumption\n",
    "}\n",
    "\n",
    "df = pd.DataFrame(data)\n",
    "print(df)\n",
    "\n",
    "'''\n",
    "pd.set_option('display.max_columns', None)  # Display all columns\n",
    "pd.set_option('display.width', None)  # Set the width to fit all columns in one line\n",
    "\n",
    "# Print the DataFrame\n",
    "print(df.to_string(index=False))'''"
   ]
  },
  {
   "cell_type": "code",
   "execution_count": 59,
   "id": "a95485ea-5b9f-48d9-9762-c8c2ecb65c15",
   "metadata": {
    "tags": []
   },
   "outputs": [
    {
     "name": "stdout",
     "output_type": "stream",
     "text": [
      "600.0\n",
      "50.0\n",
      "Mean: 130.03042456731524\n",
      "Variance: 785.5506822072097\n",
      "Standard Deviation: 28.027677074763254\n"
     ]
    }
   ],
   "source": [
    "'''\n",
    "Trying to co-relate Energy consumed based on the inputs\n",
    "Building Area: 25% \n",
    "Building Height: 10% \n",
    "Building Type: 10% \n",
    "Outdoor Temperature: 25%\n",
    "Humidity: 10% \n",
    "'''\n",
    "\n",
    "# Convert 'Building Type' to numerical values\n",
    "building_type_dict = {'Single House': 1, 'Townhouse': 2, 'Duplex': 3, 'Apartment': 4}\n",
    "\n",
    "# Define the base weights based on estimated influences, how each of these factors affect the energy consumption of the buildings\n",
    "weights = {\n",
    "    'Building Area': 0.5,\n",
    "    'Building Height': 0.20,\n",
    "    'Building Type': 0.20,\n",
    "    'Air Temperature': 0.5,\n",
    "    'Humidity': 0.20,\n",
    "    'Solar Radiation': 0.40\n",
    "}\n",
    "\n",
    "# Define functions to adjust weights based on the actual values of the inputs with logical l variations and random factors\n",
    "def area_weight(area):\n",
    "    l = min(0.5 + (area / 1000), 0.99)  # Higher area, higher l value, capped at 1.0\n",
    "    variation = np.random.uniform(l, 1.0)\n",
    "    return variation * (area / 1000)\n",
    "\n",
    "def height_weight(height):\n",
    "    l = min(0.5 + (height / 15), 0.99)  # Higher height, higher l value, capped at 1.0\n",
    "    variation = np.random.uniform(l, 1.0)\n",
    "    return variation * (height / 15)\n",
    "\n",
    "def type_weight(building):\n",
    "    building_type = building_type_dict[building]\n",
    "    if building_type == 1:  # Single house\n",
    "        l = 0.9\n",
    "    elif building_type == 2:  # Townhouse\n",
    "        l = 0.7\n",
    "    elif building_type == 3:  # Duplex\n",
    "        l = 0.6\n",
    "    else:  # Apartment\n",
    "        l = 0.5\n",
    "    variation = np.random.uniform(l, 1.0)\n",
    "    return variation * (building_type / 4)\n",
    "\n",
    "def temperature_weight(temperature):\n",
    "    if np.isnan(temperature):\n",
    "        temperature = 0\n",
    "    l = min(0.5 + (temperature / 40), 0.99)  # Higher temperature, higher l value, capped at 1.0\n",
    "    variation = np.random.uniform(l, 1.0)\n",
    "    return variation * (temperature / 40)\n",
    "\n",
    "def humidity_weight(humidity):\n",
    "    if np.isnan(humidity):\n",
    "        humidity = 0\n",
    "    l = 0.5 + (humidity / 100)  # Higher humidity, higher l value, capped at 1.0\n",
    "    if l>=1.0: l = 1.0\n",
    "    variation = np.random.uniform(l, 1.0)\n",
    "    return variation * (humidity / 100)\n",
    "\n",
    "def solar_radiation_weight(solar_radiation):\n",
    "    if np.isnan(solar_radiation):\n",
    "        solar_radiation = 0\n",
    "    l = min(0.5 + (solar_radiation / 1000), 1.0)  # Higher solar radiation, higher l value, capped at 0.99\n",
    "    variation = np.random.uniform(l, 1.0)\n",
    "    return variation * (solar_radiation / 1000)\n",
    "\n",
    "# Function to calculate the weighted sum for a row\n",
    "def calculate_weighted_sum(row):\n",
    "    total_score = (\n",
    "        weights['Building Area'] * area_weight(row['Building Area']) +\n",
    "        weights['Building Height'] * height_weight(row['Building Height']) +\n",
    "        weights['Building Type'] * type_weight(row['Building Type']) +\n",
    "        weights['Air Temperature'] * temperature_weight(row['Air Temperature']) +\n",
    "        weights['Humidity'] * humidity_weight(row['Humidity']) +\n",
    "        weights['Solar Radiation'] * solar_radiation_weight(row['Solar Radiation'])\n",
    "    )\n",
    "    return total_score\n",
    "\n",
    "# Apply the function to each row to calculate the total score\n",
    "df['Total Score'] = df.apply(calculate_weighted_sum, axis=1)\n",
    "\n",
    "# Normalize the total score to the range 0 to 1\n",
    "normalized_score = (df['Total Score'] - df['Total Score'].min()) / (df['Total Score'].max() - df['Total Score'].min())\n",
    "\n",
    "# Scale the normalized score to the energy consumption range (50 to 300)\n",
    "df['Energy Consumption'] = 50 + normalized_score *2.2* (300 - 50)\n",
    "\n",
    "print(max(df['Energy Consumption']))\n",
    "print(min(df['Energy Consumption']))\n",
    "# Calculate the mean of the column\n",
    "mean_value = df['Energy Consumption'].mean()\n",
    "\n",
    "# Calculate the variance of the column\n",
    "variance_value = df['Energy Consumption'].var()\n",
    "\n",
    "# Calculate the standard deviation of the column\n",
    "std_deviation_value = df['Energy Consumption'].std()\n",
    "\n",
    "print(\"Mean:\", mean_value)\n",
    "print(\"Variance:\", variance_value)\n",
    "print(\"Standard Deviation:\", std_deviation_value)"
   ]
  },
  {
   "cell_type": "code",
   "execution_count": 62,
   "id": "a489c9f6-ecff-4b4b-b09a-21bb070a3ed0",
   "metadata": {
    "tags": []
   },
   "outputs": [],
   "source": [
    "pd.set_option('display.max_columns', None)  # Display all columns\n",
    "pd.set_option('display.width', None)  # Set the width to fit all columns in one line\n",
    "\n",
    "# Print the DataFrame\n",
    "# print(df.to_string(index=False))\n",
    "\n",
    "columns_to_export = ['Building Area', 'Building Height', 'Building Type','Air Temperature', 'Humidity', 'Solar Radiation', 'Energy Consumption']\n",
    "# Save the DataFrame to a CSV file\n",
    "df[columns_to_export].to_csv('data_frame.csv', index=False)\n"
   ]
  }
 ],
 "metadata": {
  "kernelspec": {
   "display_name": "Python 3 (ipykernel)",
   "language": "python",
   "name": "python3"
  },
  "language_info": {
   "codemirror_mode": {
    "name": "ipython",
    "version": 3
   },
   "file_extension": ".py",
   "mimetype": "text/x-python",
   "name": "python",
   "nbconvert_exporter": "python",
   "pygments_lexer": "ipython3",
   "version": "3.11.5"
  }
 },
 "nbformat": 4,
 "nbformat_minor": 5
}
