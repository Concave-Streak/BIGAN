{
  "nbformat": 4,
  "nbformat_minor": 0,
  "metadata": {
    "colab": {
      "provenance": [],
      "gpuType": "T4"
    },
    "kernelspec": {
      "name": "python3",
      "display_name": "Python 3"
    },
    "language_info": {
      "name": "python"
    }
  },
  "cells": [
    {
      "cell_type": "code",
      "execution_count": 1,
      "metadata": {
        "id": "AYsznoX3n8Jp"
      },
      "outputs": [],
      "source": [
        "!pip install folium --quiet"
      ]
    },
    {
      "cell_type": "code",
      "source": [
        "import folium"
      ],
      "metadata": {
        "id": "UNR0DfvfoCnq"
      },
      "execution_count": 2,
      "outputs": []
    },
    {
      "cell_type": "code",
      "source": [
        "!pip install osmnx --quiet\n",
        "import osmnx as ox\n",
        "import json\n",
        "from geopy.geocoders import Nominatim\n",
        "\n",
        "# Initialize the geocoder\n",
        "geolocator = Nominatim(user_agent=\"geojson_extractor\")\n",
        "\n",
        "# Geocode the address\n",
        "address = input(\"Enter Address\")\n",
        "location = geolocator.geocode(address, country_codes=\"au\")\n",
        "latitude = location.latitude\n",
        "longitude = location.longitude\n",
        "\n",
        "# Define the point of interest (POI)\n",
        "point = (latitude, longitude)\n",
        "\n",
        "# Query OSM for buildings around the point\n",
        "tags = {'building': True}\n",
        "buildings = ox.features_from_point(point, tags, dist=50)\n",
        "\n",
        "# Filter out the buildings\n",
        "building = buildings.iloc[0]\n",
        "\n",
        "# Print the building's geometry (GeoJSON format)\n",
        "print(building.geometry)\n",
        "\n",
        "# Save the building's shape to a GeoJSON file\n",
        "building_geojson = building.geometry.__geo_interface__\n",
        "with open(\"building_shape.geojson\", \"w\") as f:\n",
        "    json.dump(building_geojson, f)\n",
        "\n",
        "print(f\"Building shape saved to building_shape.geojson\")\n"
      ],
      "metadata": {
        "colab": {
          "base_uri": "https://localhost:8080/"
        },
        "id": "p0h7-5MmR-zo",
        "outputId": "0d99d8a8-797a-470c-e136-dff915cb29d1"
      },
      "execution_count": 17,
      "outputs": [
        {
          "output_type": "stream",
          "name": "stdout",
          "text": [
            "Enter Addressaberdeen nsw\n",
            "POLYGON ((150.8911736 -32.1671763, 150.8914293 -32.1672044, 150.891408 -32.1673266, 150.891157 -32.1672986, 150.8911736 -32.1671763))\n",
            "Building shape saved to building_shape.geojson\n"
          ]
        }
      ]
    },
    {
      "cell_type": "code",
      "source": [
        "geometry = building.geometry\n",
        "first_coordinate = geometry.exterior.coords[0]\n",
        "x = first_coordinate[0]\n",
        "y = first_coordinate[1]\n",
        "print(x, y)"
      ],
      "metadata": {
        "colab": {
          "base_uri": "https://localhost:8080/"
        },
        "id": "9a5dXj9UfoGR",
        "outputId": "89037f68-6701-4d71-8577-89d7ed7341ab"
      },
      "execution_count": 18,
      "outputs": [
        {
          "output_type": "stream",
          "name": "stdout",
          "text": [
            "150.8911736 -32.1671763\n"
          ]
        }
      ]
    },
    {
      "cell_type": "code",
      "source": [
        "m = folium.Map(location=[y, x],zoom_start=17)\n",
        "\n",
        "folium.GeoJson('building_shape.geojson', name='Australia').add_to(m)\n",
        "\n",
        "m"
      ],
      "metadata": {
        "colab": {
          "base_uri": "https://localhost:8080/",
          "height": 865
        },
        "id": "MX0MpEWPoJF7",
        "outputId": "f16b732c-b568-4dfd-fefc-c60c7cacb3fd"
      },
      "execution_count": 19,
      "outputs": [
        {
          "output_type": "execute_result",
          "data": {
            "text/plain": [
              "<folium.folium.Map at 0x7934a66e6b60>"
            ],
            "text/html": [
              "<div style=\"width:100%;\"><div style=\"position:relative;width:100%;height:0;padding-bottom:60%;\"><span style=\"color:#565656\">Make this Notebook Trusted to load map: File -> Trust Notebook</span><iframe srcdoc=\"&lt;!DOCTYPE html&gt;\n",
              "&lt;html&gt;\n",
              "&lt;head&gt;\n",
              "    \n",
              "    &lt;meta http-equiv=&quot;content-type&quot; content=&quot;text/html; charset=UTF-8&quot; /&gt;\n",
              "    \n",
              "        &lt;script&gt;\n",
              "            L_NO_TOUCH = false;\n",
              "            L_DISABLE_3D = false;\n",
              "        &lt;/script&gt;\n",
              "    \n",
              "    &lt;style&gt;html, body {width: 100%;height: 100%;margin: 0;padding: 0;}&lt;/style&gt;\n",
              "    &lt;style&gt;#map {position:absolute;top:0;bottom:0;right:0;left:0;}&lt;/style&gt;\n",
              "    &lt;script src=&quot;https://cdn.jsdelivr.net/npm/leaflet@1.9.3/dist/leaflet.js&quot;&gt;&lt;/script&gt;\n",
              "    &lt;script src=&quot;https://code.jquery.com/jquery-1.12.4.min.js&quot;&gt;&lt;/script&gt;\n",
              "    &lt;script src=&quot;https://cdn.jsdelivr.net/npm/bootstrap@5.2.2/dist/js/bootstrap.bundle.min.js&quot;&gt;&lt;/script&gt;\n",
              "    &lt;script src=&quot;https://cdnjs.cloudflare.com/ajax/libs/Leaflet.awesome-markers/2.0.2/leaflet.awesome-markers.js&quot;&gt;&lt;/script&gt;\n",
              "    &lt;link rel=&quot;stylesheet&quot; href=&quot;https://cdn.jsdelivr.net/npm/leaflet@1.9.3/dist/leaflet.css&quot;/&gt;\n",
              "    &lt;link rel=&quot;stylesheet&quot; href=&quot;https://cdn.jsdelivr.net/npm/bootstrap@5.2.2/dist/css/bootstrap.min.css&quot;/&gt;\n",
              "    &lt;link rel=&quot;stylesheet&quot; href=&quot;https://netdna.bootstrapcdn.com/bootstrap/3.0.0/css/bootstrap.min.css&quot;/&gt;\n",
              "    &lt;link rel=&quot;stylesheet&quot; href=&quot;https://cdn.jsdelivr.net/npm/@fortawesome/fontawesome-free@6.2.0/css/all.min.css&quot;/&gt;\n",
              "    &lt;link rel=&quot;stylesheet&quot; href=&quot;https://cdnjs.cloudflare.com/ajax/libs/Leaflet.awesome-markers/2.0.2/leaflet.awesome-markers.css&quot;/&gt;\n",
              "    &lt;link rel=&quot;stylesheet&quot; href=&quot;https://cdn.jsdelivr.net/gh/python-visualization/folium/folium/templates/leaflet.awesome.rotate.min.css&quot;/&gt;\n",
              "    \n",
              "            &lt;meta name=&quot;viewport&quot; content=&quot;width=device-width,\n",
              "                initial-scale=1.0, maximum-scale=1.0, user-scalable=no&quot; /&gt;\n",
              "            &lt;style&gt;\n",
              "                #map_0881bc3851e0e6956e80567a72c04ac4 {\n",
              "                    position: relative;\n",
              "                    width: 100.0%;\n",
              "                    height: 100.0%;\n",
              "                    left: 0.0%;\n",
              "                    top: 0.0%;\n",
              "                }\n",
              "                .leaflet-container { font-size: 1rem; }\n",
              "            &lt;/style&gt;\n",
              "        \n",
              "&lt;/head&gt;\n",
              "&lt;body&gt;\n",
              "    \n",
              "    \n",
              "            &lt;div class=&quot;folium-map&quot; id=&quot;map_0881bc3851e0e6956e80567a72c04ac4&quot; &gt;&lt;/div&gt;\n",
              "        \n",
              "&lt;/body&gt;\n",
              "&lt;script&gt;\n",
              "    \n",
              "    \n",
              "            var map_0881bc3851e0e6956e80567a72c04ac4 = L.map(\n",
              "                &quot;map_0881bc3851e0e6956e80567a72c04ac4&quot;,\n",
              "                {\n",
              "                    center: [-32.1671763, 150.8911736],\n",
              "                    crs: L.CRS.EPSG3857,\n",
              "                    zoom: 17,\n",
              "                    zoomControl: true,\n",
              "                    preferCanvas: false,\n",
              "                }\n",
              "            );\n",
              "\n",
              "            \n",
              "\n",
              "        \n",
              "    \n",
              "            var tile_layer_3fa22ccb37aac76dc6e2fa46023bebbe = L.tileLayer(\n",
              "                &quot;https://{s}.tile.openstreetmap.org/{z}/{x}/{y}.png&quot;,\n",
              "                {&quot;attribution&quot;: &quot;Data by \\u0026copy; \\u003ca target=\\&quot;_blank\\&quot; href=\\&quot;http://openstreetmap.org\\&quot;\\u003eOpenStreetMap\\u003c/a\\u003e, under \\u003ca target=\\&quot;_blank\\&quot; href=\\&quot;http://www.openstreetmap.org/copyright\\&quot;\\u003eODbL\\u003c/a\\u003e.&quot;, &quot;detectRetina&quot;: false, &quot;maxNativeZoom&quot;: 18, &quot;maxZoom&quot;: 18, &quot;minZoom&quot;: 0, &quot;noWrap&quot;: false, &quot;opacity&quot;: 1, &quot;subdomains&quot;: &quot;abc&quot;, &quot;tms&quot;: false}\n",
              "            ).addTo(map_0881bc3851e0e6956e80567a72c04ac4);\n",
              "        \n",
              "    \n",
              "\n",
              "        function geo_json_7f360c947ae8eb509f801739c935a388_onEachFeature(feature, layer) {\n",
              "            layer.on({\n",
              "            });\n",
              "        };\n",
              "        var geo_json_7f360c947ae8eb509f801739c935a388 = L.geoJson(null, {\n",
              "                onEachFeature: geo_json_7f360c947ae8eb509f801739c935a388_onEachFeature,\n",
              "            \n",
              "        });\n",
              "\n",
              "        function geo_json_7f360c947ae8eb509f801739c935a388_add (data) {\n",
              "            geo_json_7f360c947ae8eb509f801739c935a388\n",
              "                .addData(data)\n",
              "                .addTo(map_0881bc3851e0e6956e80567a72c04ac4);\n",
              "        }\n",
              "            geo_json_7f360c947ae8eb509f801739c935a388_add({&quot;coordinates&quot;: [[[150.8911736, -32.1671763], [150.8914293, -32.1672044], [150.891408, -32.1673266], [150.891157, -32.1672986], [150.8911736, -32.1671763]]], &quot;type&quot;: &quot;Polygon&quot;});\n",
              "\n",
              "        \n",
              "&lt;/script&gt;\n",
              "&lt;/html&gt;\" style=\"position:absolute;width:100%;height:100%;left:0;top:0;border:none !important;\" allowfullscreen webkitallowfullscreen mozallowfullscreen></iframe></div></div>"
            ]
          },
          "metadata": {},
          "execution_count": 19
        }
      ]
    },
    {
      "cell_type": "code",
      "source": [],
      "metadata": {
        "id": "EExra_Caf9uI"
      },
      "execution_count": null,
      "outputs": []
    }
  ]
}