{
  "nbformat": 4,
  "nbformat_minor": 0,
  "metadata": {
    "colab": {
      "provenance": []
    },
    "kernelspec": {
      "name": "python3",
      "display_name": "Python 3"
    },
    "language_info": {
      "name": "python"
    }
  },
  "cells": [
    {
      "cell_type": "markdown",
      "source": [
        "# Importing necessary Libraries and Files(Temperature, Solar and Humidity Data)"
      ],
      "metadata": {
        "id": "zWPWzjkJU0Fc"
      }
    },
    {
      "cell_type": "code",
      "execution_count": null,
      "metadata": {
        "id": "I409lOR4RF5j"
      },
      "outputs": [],
      "source": [
        "import pandas as pd\n",
        "import numpy as np\n",
        "temp_data = pd.read_csv(\"Temperature_Data(Cleaned).csv\")\n",
        "sol_data = pd.read_csv(\"Solar_Data(Cleaned).csv\")\n",
        "hum_data = pd.read_csv(\"Humidity_Data(Cleaned).csv\")"
      ]
    },
    {
      "cell_type": "markdown",
      "source": [
        "# Converting the dataframe files to numpy array"
      ],
      "metadata": {
        "id": "0FNxWYKu6s34"
      }
    },
    {
      "cell_type": "code",
      "source": [
        "temp_data = temp_data.values\n",
        "sol_data = np.round(sol_data.values, decimals=1)  #converting to array and rounding the values to 1 decimal place\n",
        "hum_data = hum_data.values"
      ],
      "metadata": {
        "id": "GGe5mRzV6j8y"
      },
      "execution_count": null,
      "outputs": []
    },
    {
      "cell_type": "markdown",
      "source": [
        "# Generating normal random values of Building area and height"
      ],
      "metadata": {
        "id": "7NLf8iHsVVrf"
      }
    },
    {
      "cell_type": "code",
      "source": [
        "min_area = 50\n",
        "max_area = 1000\n",
        "mean = (min_area+max_area)/2\n",
        "std_dev = (max_area-min_area)/6\n",
        "Building_area = np.random.normal(mean, std_dev, size=10000)\n",
        "Building_area = np.clip(Building_area, min_area,  max_area)   # Clipping the values between max aand min\n",
        "Building_area = np.round(Building_area/10) * 10               # Rounding the values to integer values of 10\n",
        "print(Building_area)\n",
        "print(Building_area.shape)"
      ],
      "metadata": {
        "colab": {
          "base_uri": "https://localhost:8080/"
        },
        "id": "4zx06GmyUGjv",
        "outputId": "3db1e478-5d60-4a9e-c605-af5223672c3b"
      },
      "execution_count": null,
      "outputs": [
        {
          "output_type": "stream",
          "name": "stdout",
          "text": [
            "[580. 530. 430. ... 390. 450. 500.]\n",
            "(10000,)\n"
          ]
        }
      ]
    },
    {
      "cell_type": "code",
      "source": [
        "min_height = 3\n",
        "max_height = 15\n",
        "mean = (min_height+max_height)/2\n",
        "std_dev = (max_height-min_height)/6\n",
        "Building_height = np.random.normal(mean, std_dev, size=10000)\n",
        "Building_height = np.clip(Building_height, min_height,  max_height)   # Clipping the values between max aand min\n",
        "Building_height = np.round(Building_height/3) * 3\n",
        "print(Building_height)\n",
        "print(Building_height.shape)"
      ],
      "metadata": {
        "colab": {
          "base_uri": "https://localhost:8080/"
        },
        "id": "SPSztiaHUHww",
        "outputId": "b038e3f2-edc2-404b-a6ea-5d6bd2ad68ec"
      },
      "execution_count": null,
      "outputs": [
        {
          "output_type": "stream",
          "name": "stdout",
          "text": [
            "[ 6. 12.  9. ...  9. 12.  9.]\n",
            "(10000,)\n"
          ]
        }
      ]
    },
    {
      "cell_type": "markdown",
      "source": [
        "# Creating Building type array(Based on Census Data)"
      ],
      "metadata": {
        "id": "ERsR0lb5VgKS"
      }
    },
    {
      "cell_type": "code",
      "source": [
        "Building_types = [\"Single house\", \"Townhouse\", \"Duplex\", \"Apartment\" ]\n",
        "probabilities = [0.7, 0.06, 0.08, 0.16] #Based on Census Data of 2021 of Australia\n",
        "Building_types = np.random.choice(Building_types, size=10000, p=probabilities)\n",
        "print(Building_types)\n",
        "print(Building_types.shape)"
      ],
      "metadata": {
        "colab": {
          "base_uri": "https://localhost:8080/"
        },
        "id": "mesOB3rLSGYV",
        "outputId": "a1d52007-ab9e-4bfa-8b79-207ee69cec32"
      },
      "execution_count": null,
      "outputs": [
        {
          "output_type": "stream",
          "name": "stdout",
          "text": [
            "['Single house' 'Single house' 'Single house' ... 'Single house'\n",
            " 'Single house' 'Single house']\n",
            "(10000,)\n"
          ]
        }
      ]
    },
    {
      "cell_type": "markdown",
      "source": [
        "# Calculating Energy Consuption"
      ],
      "metadata": {
        "id": "LtCd6rsQBW8K"
      }
    },
    {
      "cell_type": "code",
      "source": [
        "Building_type_df = pd.get_dummies(Building_types) # Converting categorical data into dummy variables\n",
        "Building_type_df = Building_type_df.values # Converting into np array\n",
        "\n",
        "# Define coefficients for each input variable\n",
        "Building_area_coefficient = 2.0\n",
        "Building_height_coefficient = 1.0\n",
        "Temperature_coefficient = 1.7\n",
        "Humidity_coefficient = 0.7\n",
        "Solar_energy_coefficient = 0.3\n",
        "\n",
        "# Reshaping Building area and height arrays\n",
        "Building_area = Building_area.reshape(-1,1)\n",
        "Building_height = Building_height.reshape(-1,1)\n",
        "\n",
        "# Calculate energy consumption based on the linear relationship\n",
        "energy_consumption = (Building_area * Building_area_coefficient +\n",
        "                      Building_height * Building_height_coefficient +\n",
        "                      temp_data * Temperature_coefficient +\n",
        "                      sol_data * Solar_energy_coefficient +\n",
        "                      hum_data * Humidity_coefficient +\n",
        "                      Building_type_df[:, 0].reshape(-1,1) * 1 +   # Coefficient for Single house\n",
        "                      Building_type_df[:, 1].reshape(-1,1) * 5 +   # Coefficient for Townhouse\n",
        "                      Building_type_df[:, 2].reshape(-1,1) * 2 +   # Coefficient for Duplex\n",
        "                      Building_type_df[:, 3].reshape(-1,1) * 4)    # Coefficient for Apartment\n",
        "\n",
        "# Making the range of enrrgy_consuption between the desired range\n",
        "l = 50                          # Lower bound of desired range\n",
        "u = 300                         # Upper bound of desired range\n",
        "m1 = energy_consumption.min()\n",
        "m2 = energy_consumption.max()\n",
        "energy_consumption = ((energy_consumption - m1)/(m2 - m1)) * (u - l) + l\n",
        "\n",
        "# Making energy consumption as multiples of 10\n",
        "energy_consumption = np.round((energy_consumption/10)) * 10\n",
        "\n",
        "print(energy_consumption)\n",
        "print(energy_consumption.shape)"
      ],
      "metadata": {
        "colab": {
          "base_uri": "https://localhost:8080/"
        },
        "id": "2zQL7Eb0azJD",
        "outputId": "4d18ca5c-6220-48ca-af53-128f56ba8a8d"
      },
      "execution_count": null,
      "outputs": [
        {
          "output_type": "stream",
          "name": "stdout",
          "text": [
            "[[190.]\n",
            " [180.]\n",
            " [150.]\n",
            " ...\n",
            " [140.]\n",
            " [160.]\n",
            " [170.]]\n",
            "(10000, 1)\n"
          ]
        }
      ]
    },
    {
      "cell_type": "markdown",
      "source": [
        "# Combining all data into one Data Frame"
      ],
      "metadata": {
        "id": "yb1lcXB4FSnJ"
      }
    },
    {
      "cell_type": "code",
      "source": [
        "Housing_data = pd.DataFrame({\n",
        "    \"Building Area(m2)\" : Building_area.flatten(),\n",
        "    \"Building_height(m)\" : Building_height.flatten(),\n",
        "    \"Building Type\" : Building_types.flatten(),\n",
        "    \"Temperature(degree C)\" : temp_data.flatten(),\n",
        "    \"Relative Humidity(%)\": hum_data.flatten(),\n",
        "    \"Solar Radiation(W/m2)\" : sol_data.flatten(),\n",
        "    \"Energy Consumption(KW/m2/yr)\" : energy_consumption.flatten()\n",
        "})\n",
        "\n",
        "print(Housing_data.head())"
      ],
      "metadata": {
        "colab": {
          "base_uri": "https://localhost:8080/"
        },
        "id": "UHKZy4BJCR98",
        "outputId": "6ee0178e-0b1e-4d8e-bbc2-6fd008f82a93"
      },
      "execution_count": null,
      "outputs": [
        {
          "output_type": "stream",
          "name": "stdout",
          "text": [
            "   Building Area(m2)  Building_height(m) Building Type  Temperature(degree C)  \\\n",
            "0              580.0                 6.0  Single house                   27.0   \n",
            "1              530.0                12.0  Single house                   27.0   \n",
            "2              430.0                 9.0  Single house                   27.0   \n",
            "3              820.0                 6.0        Duplex                   28.0   \n",
            "4              520.0                 6.0  Single house                   33.0   \n",
            "\n",
            "   Relative Humidity(%)  Solar Radiation(W/m2)  Energy Consumption(KW/m2/yr)  \n",
            "0                   100                   12.1                         190.0  \n",
            "1                    84                   22.8                         180.0  \n",
            "2                    91                   16.3                         150.0  \n",
            "3                   100                   11.8                         250.0  \n",
            "4                   100                   17.0                         180.0  \n"
          ]
        }
      ]
    },
    {
      "cell_type": "markdown",
      "source": [
        "# Exporting the data to csv File"
      ],
      "metadata": {
        "id": "5E40d1yyFldp"
      }
    },
    {
      "cell_type": "code",
      "source": [
        "Housing_data.to_csv(\"Housing data(generated).csv\", index=False)"
      ],
      "metadata": {
        "id": "hB5nDwqHEoaA"
      },
      "execution_count": null,
      "outputs": []
    }
  ]
}